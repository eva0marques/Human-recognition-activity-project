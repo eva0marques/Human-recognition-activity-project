{
 "metadata": {
  "kernelspec": {
   "display_name": "Python [conda env:py27]",
   "language": "python",
   "name": "conda-env-py27-py"
  },
  "language_info": {
   "codemirror_mode": {
    "name": "ipython",
    "version": 2
   },
   "file_extension": ".py",
   "mimetype": "text/x-python",
   "name": "python",
   "nbconvert_exporter": "python",
   "pygments_lexer": "ipython2",
   "version": "2.7.13"
  },
  "name": "",
  "signature": "sha256:5628ed858d9582a9f355e7d9434ecdc2f34ede33952ee715acb1d1b7f6415730"
 },
 "nbformat": 3,
 "nbformat_minor": 0,
 "worksheets": [
  {
   "cells": [
    {
     "cell_type": "code",
     "collapsed": false,
     "input": [
      "import pandas as pd\n",
      "import numpy as np\n",
      "# Lecture des donn\u00e9es\n",
      "# Charger les donn\u00e9es ou les lire directement en pr\u00e9cisant le chemin\n",
      "path=\"~/Documents/5AGMM/UCI HAR Dataset/\"  # path sur l'ordi de Soizick\n",
      "activity_labels=pd.read_csv(path+\"activity_labels.txt\",sep=\" \", names = np.array([\"label\",\"denomination\"]),header=None)\n",
      "# V\u00e9rification du contenu\n",
      "print activity_labels\n",
      "features=pd.read_csv(path+\"features.txt\",sep=\" \")\n",
      "print features"
     ],
     "language": "python",
     "metadata": {},
     "outputs": [
      {
       "output_type": "stream",
       "stream": "stdout",
       "text": [
        "   label        denomination\n",
        "0      1             WALKING\n",
        "1      2    WALKING_UPSTAIRS\n",
        "2      3  WALKING_DOWNSTAIRS\n",
        "3      4             SITTING\n",
        "4      5            STANDING\n",
        "5      6              LAYING\n",
        "       1                     tBodyAcc-mean()-X\n",
        "0      2                     tBodyAcc-mean()-Y\n",
        "1      3                     tBodyAcc-mean()-Z\n",
        "2      4                      tBodyAcc-std()-X\n",
        "3      5                      tBodyAcc-std()-Y\n",
        "4      6                      tBodyAcc-std()-Z\n",
        "5      7                      tBodyAcc-mad()-X\n",
        "6      8                      tBodyAcc-mad()-Y\n",
        "7      9                      tBodyAcc-mad()-Z\n",
        "8     10                      tBodyAcc-max()-X\n",
        "9     11                      tBodyAcc-max()-Y\n",
        "10    12                      tBodyAcc-max()-Z\n",
        "11    13                      tBodyAcc-min()-X\n",
        "12    14                      tBodyAcc-min()-Y\n",
        "13    15                      tBodyAcc-min()-Z\n",
        "14    16                        tBodyAcc-sma()\n",
        "15    17                   tBodyAcc-energy()-X\n",
        "16    18                   tBodyAcc-energy()-Y\n",
        "17    19                   tBodyAcc-energy()-Z\n",
        "18    20                      tBodyAcc-iqr()-X\n",
        "19    21                      tBodyAcc-iqr()-Y\n",
        "20    22                      tBodyAcc-iqr()-Z\n",
        "21    23                  tBodyAcc-entropy()-X\n",
        "22    24                  tBodyAcc-entropy()-Y\n",
        "23    25                  tBodyAcc-entropy()-Z\n",
        "24    26                tBodyAcc-arCoeff()-X,1\n",
        "25    27                tBodyAcc-arCoeff()-X,2\n",
        "26    28                tBodyAcc-arCoeff()-X,3\n",
        "27    29                tBodyAcc-arCoeff()-X,4\n",
        "28    30                tBodyAcc-arCoeff()-Y,1\n",
        "29    31                tBodyAcc-arCoeff()-Y,2\n",
        "..   ...                                   ...\n",
        "530  532                fBodyBodyGyroMag-max()\n",
        "531  533                fBodyBodyGyroMag-min()\n",
        "532  534                fBodyBodyGyroMag-sma()\n",
        "533  535             fBodyBodyGyroMag-energy()\n",
        "534  536                fBodyBodyGyroMag-iqr()\n",
        "535  537            fBodyBodyGyroMag-entropy()\n",
        "536  538              fBodyBodyGyroMag-maxInds\n",
        "537  539           fBodyBodyGyroMag-meanFreq()\n",
        "538  540           fBodyBodyGyroMag-skewness()\n",
        "539  541           fBodyBodyGyroMag-kurtosis()\n",
        "540  542           fBodyBodyGyroJerkMag-mean()\n",
        "541  543            fBodyBodyGyroJerkMag-std()\n",
        "542  544            fBodyBodyGyroJerkMag-mad()\n",
        "543  545            fBodyBodyGyroJerkMag-max()\n",
        "544  546            fBodyBodyGyroJerkMag-min()\n",
        "545  547            fBodyBodyGyroJerkMag-sma()\n",
        "546  548         fBodyBodyGyroJerkMag-energy()\n",
        "547  549            fBodyBodyGyroJerkMag-iqr()\n",
        "548  550        fBodyBodyGyroJerkMag-entropy()\n",
        "549  551          fBodyBodyGyroJerkMag-maxInds\n",
        "550  552       fBodyBodyGyroJerkMag-meanFreq()\n",
        "551  553       fBodyBodyGyroJerkMag-skewness()\n",
        "552  554       fBodyBodyGyroJerkMag-kurtosis()\n",
        "553  555           angle(tBodyAccMean,gravity)\n",
        "554  556  angle(tBodyAccJerkMean),gravityMean)\n",
        "555  557      angle(tBodyGyroMean,gravityMean)\n",
        "556  558  angle(tBodyGyroJerkMean,gravityMean)\n",
        "557  559                  angle(X,gravityMean)\n",
        "558  560                  angle(Y,gravityMean)\n",
        "559  561                  angle(Z,gravityMean)\n",
        "\n",
        "[560 rows x 2 columns]\n"
       ]
      }
     ],
     "prompt_number": 4
    },
    {
     "cell_type": "markdown",
     "metadata": {},
     "source": [
      "Tadaaaaaaaa j'ai fait du git sur windows comme une grande et en plus j'ai r\u00e9gl\u00e9 le probl\u00e8me !"
     ]
    }
   ],
   "metadata": {}
  }
 ]
}