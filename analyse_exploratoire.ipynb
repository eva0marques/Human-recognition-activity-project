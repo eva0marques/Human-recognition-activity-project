{
 "metadata": {
  "kernelspec": {
   "display_name": "Python [conda env:py27]",
   "language": "python",
   "name": "conda-env-py27-py"
  },
  "language_info": {
   "codemirror_mode": {
    "name": "ipython",
    "version": 2
   },
   "file_extension": ".py",
   "mimetype": "text/x-python",
   "name": "python",
   "nbconvert_exporter": "python",
   "pygments_lexer": "ipython2",
   "version": "2.7.13"
  },
  "name": "",
  "signature": "sha256:a942322aaf37beba6d9481eb8be2f13774ad79b6734663fd65c012b71bdb09f3"
 },
 "nbformat": 3,
 "nbformat_minor": 0,
 "worksheets": [
  {
   "cells": [
    {
     "cell_type": "code",
     "collapsed": false,
     "input": [
      "import pandas as pd\n",
      "import numpy as np\n",
      "# Lecture des donn\u00e9es\n",
      "# Charger les donn\u00e9es ou les lire directement en pr\u00e9cisant le chemin\n",
      "path=\"~/Documents/5AGMM/UCI HAR Dataset/\"\n",
      "activity_labels=pd.read_csv(path+\"activity_labels.txt\",sep=\" \", names = np.array([\"label\",\"denomination\"]),header=None)\n",
      "# V\u00e9rification du contenu\n",
      "activity_labels"
     ],
     "language": "python",
     "metadata": {},
     "outputs": [
      {
       "html": [
        "<div style=\"max-width:1500px;overflow:auto;\">\n",
        "<table border=\"1\" class=\"dataframe\">\n",
        "  <thead>\n",
        "    <tr style=\"text-align: right;\">\n",
        "      <th></th>\n",
        "      <th>label</th>\n",
        "      <th>denomination</th>\n",
        "    </tr>\n",
        "  </thead>\n",
        "  <tbody>\n",
        "    <tr>\n",
        "      <th>0</th>\n",
        "      <td>1</td>\n",
        "      <td>WALKING</td>\n",
        "    </tr>\n",
        "    <tr>\n",
        "      <th>1</th>\n",
        "      <td>2</td>\n",
        "      <td>WALKING_UPSTAIRS</td>\n",
        "    </tr>\n",
        "    <tr>\n",
        "      <th>2</th>\n",
        "      <td>3</td>\n",
        "      <td>WALKING_DOWNSTAIRS</td>\n",
        "    </tr>\n",
        "    <tr>\n",
        "      <th>3</th>\n",
        "      <td>4</td>\n",
        "      <td>SITTING</td>\n",
        "    </tr>\n",
        "    <tr>\n",
        "      <th>4</th>\n",
        "      <td>5</td>\n",
        "      <td>STANDING</td>\n",
        "    </tr>\n",
        "    <tr>\n",
        "      <th>5</th>\n",
        "      <td>6</td>\n",
        "      <td>LAYING</td>\n",
        "    </tr>\n",
        "  </tbody>\n",
        "</table>\n",
        "</div>"
       ],
       "metadata": {},
       "output_type": "pyout",
       "prompt_number": 10,
       "text": [
        "   label        denomination\n",
        "0      1             WALKING\n",
        "1      2    WALKING_UPSTAIRS\n",
        "2      3  WALKING_DOWNSTAIRS\n",
        "3      4             SITTING\n",
        "4      5            STANDING\n",
        "5      6              LAYING"
       ]
      }
     ],
     "prompt_number": 10
    },
    {
     "cell_type": "markdown",
     "metadata": {},
     "source": [
      "Tadaaaaaaaa j'ai fait du git sur windows comme une grande et en plus j'ai r\u00e9gl\u00e9 le probl\u00e8me !"
     ]
    }
   ],
   "metadata": {}
  }
 ]
}